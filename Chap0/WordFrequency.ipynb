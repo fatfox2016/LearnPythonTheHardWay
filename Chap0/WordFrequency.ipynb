{
 "cells": [
  {
   "cell_type": "code",
   "execution_count": 13,
   "metadata": {
    "collapsed": false,
    "deletable": true,
    "editable": true
   },
   "outputs": [
    {
     "name": "stdout",
     "output_type": "stream",
     "text": [
      "demo.ipynb  happiness.txt\r\n"
     ]
    }
   ],
   "source": [
    "!ls /tensorflow/chap0"
   ]
  },
  {
   "cell_type": "code",
   "execution_count": 18,
   "metadata": {
    "collapsed": false,
    "deletable": true,
    "editable": true
   },
   "outputs": [],
   "source": [
    "# -*- encoding=utf-8 -*-\n",
    "import jieba\n",
    "import re\n",
    "from collections import Counter"
   ]
  },
  {
   "cell_type": "code",
   "execution_count": 50,
   "metadata": {
    "collapsed": false,
    "deletable": true,
    "editable": true
   },
   "outputs": [],
   "source": [
    "#read file\n",
    "with open('/tensorflow/Chap0/happiness.txt','r') as f:\n",
    "    text = f.read().decode(\"utf-8\")"
   ]
  },
  {
   "cell_type": "code",
   "execution_count": 51,
   "metadata": {
    "collapsed": false,
    "deletable": true,
    "editable": true
   },
   "outputs": [
    {
     "name": "stdout",
     "output_type": "stream",
     "text": [
      "<type 'unicode'>\n"
     ]
    }
   ],
   "source": [
    "#words segmentation\n",
    "words = jieba.cut(text)\n",
    "words = \" \".join(words)\n",
    "print type(words)"
   ]
  },
  {
   "cell_type": "code",
   "execution_count": 52,
   "metadata": {
    "collapsed": false,
    "deletable": true,
    "editable": true
   },
   "outputs": [],
   "source": [
    "#get words list\n",
    "list = re.split(r'\\s+',words)\n",
    "wordsList = []\n",
    "for r in list:\n",
    "    if re.match(u'([\\u4e00-\\u9fff]+)',r):\n",
    "        wordsList.append(r)"
   ]
  },
  {
   "cell_type": "code",
   "execution_count": 53,
   "metadata": {
    "collapsed": false
   },
   "outputs": [
    {
     "name": "stdout",
     "output_type": "stream",
     "text": [
      "的 22848\n",
      "是 4123\n",
      "在 3538\n",
      "他 2522\n",
      "了 2288\n",
      "人 2089\n",
      "他们 1811\n",
      "和 1746\n",
      "有 1478\n",
      "我 1433\n"
     ]
    }
   ],
   "source": [
    "#count word frequency\n",
    "textList = Counter(wordsList)\n",
    "top10 = textList.most_common(10)\n",
    "for i in top10: \n",
    "    word = i[0]\n",
    "    woer = word.encode('utf-8')\n",
    "    print word,i[1]"
   ]
  },
  {
   "cell_type": "code",
   "execution_count": null,
   "metadata": {
    "collapsed": true
   },
   "outputs": [],
   "source": []
  }
 ],
 "metadata": {
  "kernelspec": {
   "display_name": "Python 2",
   "language": "python",
   "name": "python2"
  },
  "language_info": {
   "codemirror_mode": {
    "name": "ipython",
    "version": 2
   },
   "file_extension": ".py",
   "mimetype": "text/x-python",
   "name": "python",
   "nbconvert_exporter": "python",
   "pygments_lexer": "ipython2",
   "version": "2.7.6"
  }
 },
 "nbformat": 4,
 "nbformat_minor": 2
}
